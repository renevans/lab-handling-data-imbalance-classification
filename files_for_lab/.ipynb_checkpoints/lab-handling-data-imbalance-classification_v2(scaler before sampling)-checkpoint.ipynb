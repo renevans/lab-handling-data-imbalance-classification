{
 "cells": [
  {
   "cell_type": "code",
   "execution_count": 50,
   "id": "4906e17f",
   "metadata": {},
   "outputs": [],
   "source": [
    "import pandas as pd\n",
    "import numpy as np\n",
    "import statsmodels.api as sm"
   ]
  },
  {
   "cell_type": "raw",
   "id": "8378c604",
   "metadata": {},
   "source": [
    "Instructions\n",
    "\n",
    "In this lab, we will first take a look at the degree of imbalance in the data and correct it using the techniques we learned on the class.\n",
    "Here is the list of steps to be followed (building a simple model without balancing the data):\n",
    "1. Import the required libraries and modules that you would need.\n",
    "2. Read that data into Python and call the dataframe churnData.\n",
    "3. Check the datatypes of all the columns in the data. You would see that the column TotalCharges is object type. \n",
    "Convert this column into numeric type using pd.to_numeric function.\n",
    "4. Check for null values in the dataframe. Replace the null values.\n",
    "5. Use the following features: tenure, SeniorCitizen, MonthlyCharges and TotalCharges:\n",
    "5.1 Scale the features either by using normalizer or a standard scaler.\n",
    "5.2 Split the data into a training set and a test set.\n",
    "5.3 Fit a logistic regression model on the training data.\n",
    "5.4 Check the accuracy on the test data.\n",
    "\n",
    "Note: So far we have not balanced the data.\n",
    "\n",
    "Managing imbalance in the dataset\n",
    "\n",
    "6. Check for the imbalance.\n",
    "7. Use the resampling strategies used in class for upsampling and downsampling to create a balance between the two classes.\n",
    "8. Each time fit the model and see how the accuracy of the model is."
   ]
  },
  {
   "cell_type": "code",
   "execution_count": 51,
   "id": "258dd3d6",
   "metadata": {},
   "outputs": [
    {
     "data": {
      "text/html": [
       "<div>\n",
       "<style scoped>\n",
       "    .dataframe tbody tr th:only-of-type {\n",
       "        vertical-align: middle;\n",
       "    }\n",
       "\n",
       "    .dataframe tbody tr th {\n",
       "        vertical-align: top;\n",
       "    }\n",
       "\n",
       "    .dataframe thead th {\n",
       "        text-align: right;\n",
       "    }\n",
       "</style>\n",
       "<table border=\"1\" class=\"dataframe\">\n",
       "  <thead>\n",
       "    <tr style=\"text-align: right;\">\n",
       "      <th></th>\n",
       "      <th>gender</th>\n",
       "      <th>SeniorCitizen</th>\n",
       "      <th>Partner</th>\n",
       "      <th>Dependents</th>\n",
       "      <th>tenure</th>\n",
       "      <th>PhoneService</th>\n",
       "      <th>OnlineSecurity</th>\n",
       "      <th>OnlineBackup</th>\n",
       "      <th>DeviceProtection</th>\n",
       "      <th>TechSupport</th>\n",
       "      <th>StreamingTV</th>\n",
       "      <th>StreamingMovies</th>\n",
       "      <th>Contract</th>\n",
       "      <th>MonthlyCharges</th>\n",
       "      <th>TotalCharges</th>\n",
       "      <th>Churn</th>\n",
       "    </tr>\n",
       "  </thead>\n",
       "  <tbody>\n",
       "    <tr>\n",
       "      <th>0</th>\n",
       "      <td>Female</td>\n",
       "      <td>0</td>\n",
       "      <td>Yes</td>\n",
       "      <td>No</td>\n",
       "      <td>1</td>\n",
       "      <td>No</td>\n",
       "      <td>No</td>\n",
       "      <td>Yes</td>\n",
       "      <td>No</td>\n",
       "      <td>No</td>\n",
       "      <td>No</td>\n",
       "      <td>No</td>\n",
       "      <td>Month-to-month</td>\n",
       "      <td>29.85</td>\n",
       "      <td>29.85</td>\n",
       "      <td>No</td>\n",
       "    </tr>\n",
       "    <tr>\n",
       "      <th>1</th>\n",
       "      <td>Male</td>\n",
       "      <td>0</td>\n",
       "      <td>No</td>\n",
       "      <td>No</td>\n",
       "      <td>34</td>\n",
       "      <td>Yes</td>\n",
       "      <td>Yes</td>\n",
       "      <td>No</td>\n",
       "      <td>Yes</td>\n",
       "      <td>No</td>\n",
       "      <td>No</td>\n",
       "      <td>No</td>\n",
       "      <td>One year</td>\n",
       "      <td>56.95</td>\n",
       "      <td>1889.5</td>\n",
       "      <td>No</td>\n",
       "    </tr>\n",
       "    <tr>\n",
       "      <th>2</th>\n",
       "      <td>Male</td>\n",
       "      <td>0</td>\n",
       "      <td>No</td>\n",
       "      <td>No</td>\n",
       "      <td>2</td>\n",
       "      <td>Yes</td>\n",
       "      <td>Yes</td>\n",
       "      <td>Yes</td>\n",
       "      <td>No</td>\n",
       "      <td>No</td>\n",
       "      <td>No</td>\n",
       "      <td>No</td>\n",
       "      <td>Month-to-month</td>\n",
       "      <td>53.85</td>\n",
       "      <td>108.15</td>\n",
       "      <td>Yes</td>\n",
       "    </tr>\n",
       "    <tr>\n",
       "      <th>3</th>\n",
       "      <td>Male</td>\n",
       "      <td>0</td>\n",
       "      <td>No</td>\n",
       "      <td>No</td>\n",
       "      <td>45</td>\n",
       "      <td>No</td>\n",
       "      <td>Yes</td>\n",
       "      <td>No</td>\n",
       "      <td>Yes</td>\n",
       "      <td>Yes</td>\n",
       "      <td>No</td>\n",
       "      <td>No</td>\n",
       "      <td>One year</td>\n",
       "      <td>42.30</td>\n",
       "      <td>1840.75</td>\n",
       "      <td>No</td>\n",
       "    </tr>\n",
       "    <tr>\n",
       "      <th>4</th>\n",
       "      <td>Female</td>\n",
       "      <td>0</td>\n",
       "      <td>No</td>\n",
       "      <td>No</td>\n",
       "      <td>2</td>\n",
       "      <td>Yes</td>\n",
       "      <td>No</td>\n",
       "      <td>No</td>\n",
       "      <td>No</td>\n",
       "      <td>No</td>\n",
       "      <td>No</td>\n",
       "      <td>No</td>\n",
       "      <td>Month-to-month</td>\n",
       "      <td>70.70</td>\n",
       "      <td>151.65</td>\n",
       "      <td>Yes</td>\n",
       "    </tr>\n",
       "  </tbody>\n",
       "</table>\n",
       "</div>"
      ],
      "text/plain": [
       "   gender  SeniorCitizen Partner Dependents  tenure PhoneService  \\\n",
       "0  Female              0     Yes         No       1           No   \n",
       "1    Male              0      No         No      34          Yes   \n",
       "2    Male              0      No         No       2          Yes   \n",
       "3    Male              0      No         No      45           No   \n",
       "4  Female              0      No         No       2          Yes   \n",
       "\n",
       "  OnlineSecurity OnlineBackup DeviceProtection TechSupport StreamingTV  \\\n",
       "0             No          Yes               No          No          No   \n",
       "1            Yes           No              Yes          No          No   \n",
       "2            Yes          Yes               No          No          No   \n",
       "3            Yes           No              Yes         Yes          No   \n",
       "4             No           No               No          No          No   \n",
       "\n",
       "  StreamingMovies        Contract  MonthlyCharges TotalCharges Churn  \n",
       "0              No  Month-to-month           29.85        29.85    No  \n",
       "1              No        One year           56.95       1889.5    No  \n",
       "2              No  Month-to-month           53.85       108.15   Yes  \n",
       "3              No        One year           42.30      1840.75    No  \n",
       "4              No  Month-to-month           70.70       151.65   Yes  "
      ]
     },
     "execution_count": 51,
     "metadata": {},
     "output_type": "execute_result"
    }
   ],
   "source": [
    "# 2. Read that data into Python and call the dataframe churnData.\n",
    "churnData = pd.read_csv('Customer-Churn.csv')\n",
    "churnData.head()"
   ]
  },
  {
   "cell_type": "code",
   "execution_count": 52,
   "id": "44f0e8eb",
   "metadata": {},
   "outputs": [
    {
     "data": {
      "text/plain": [
       "(7043, 16)"
      ]
     },
     "execution_count": 52,
     "metadata": {},
     "output_type": "execute_result"
    }
   ],
   "source": [
    "churnData.shape"
   ]
  },
  {
   "cell_type": "code",
   "execution_count": 53,
   "id": "1a857bcf",
   "metadata": {},
   "outputs": [],
   "source": [
    "# 3. Check the datatypes of all the columns in the data. You would see that the column TotalCharges is object type. \n",
    "# Convert this column into numeric type using pd.to_numeric function."
   ]
  },
  {
   "cell_type": "code",
   "execution_count": 54,
   "id": "1b4f2ad2",
   "metadata": {},
   "outputs": [
    {
     "name": "stdout",
     "output_type": "stream",
     "text": [
      "<class 'pandas.core.frame.DataFrame'>\n",
      "RangeIndex: 7043 entries, 0 to 7042\n",
      "Data columns (total 16 columns):\n",
      " #   Column            Non-Null Count  Dtype  \n",
      "---  ------            --------------  -----  \n",
      " 0   gender            7043 non-null   object \n",
      " 1   SeniorCitizen     7043 non-null   int64  \n",
      " 2   Partner           7043 non-null   object \n",
      " 3   Dependents        7043 non-null   object \n",
      " 4   tenure            7043 non-null   int64  \n",
      " 5   PhoneService      7043 non-null   object \n",
      " 6   OnlineSecurity    7043 non-null   object \n",
      " 7   OnlineBackup      7043 non-null   object \n",
      " 8   DeviceProtection  7043 non-null   object \n",
      " 9   TechSupport       7043 non-null   object \n",
      " 10  StreamingTV       7043 non-null   object \n",
      " 11  StreamingMovies   7043 non-null   object \n",
      " 12  Contract          7043 non-null   object \n",
      " 13  MonthlyCharges    7043 non-null   float64\n",
      " 14  TotalCharges      7043 non-null   object \n",
      " 15  Churn             7043 non-null   object \n",
      "dtypes: float64(1), int64(2), object(13)\n",
      "memory usage: 880.5+ KB\n"
     ]
    }
   ],
   "source": [
    "churnData.info()"
   ]
  },
  {
   "cell_type": "code",
   "execution_count": 55,
   "id": "afb9f30e",
   "metadata": {},
   "outputs": [],
   "source": [
    "churnData['TotalCharges'] = pd.to_numeric(churnData['TotalCharges'],errors='coerce')"
   ]
  },
  {
   "cell_type": "code",
   "execution_count": 56,
   "id": "d6eaaba0",
   "metadata": {},
   "outputs": [
    {
     "data": {
      "text/plain": [
       "nan"
      ]
     },
     "execution_count": 56,
     "metadata": {},
     "output_type": "execute_result"
    }
   ],
   "source": [
    "churnData['TotalCharges'][488]"
   ]
  },
  {
   "cell_type": "code",
   "execution_count": 57,
   "id": "366cd401",
   "metadata": {},
   "outputs": [
    {
     "data": {
      "text/html": [
       "<div>\n",
       "<style scoped>\n",
       "    .dataframe tbody tr th:only-of-type {\n",
       "        vertical-align: middle;\n",
       "    }\n",
       "\n",
       "    .dataframe tbody tr th {\n",
       "        vertical-align: top;\n",
       "    }\n",
       "\n",
       "    .dataframe thead th {\n",
       "        text-align: right;\n",
       "    }\n",
       "</style>\n",
       "<table border=\"1\" class=\"dataframe\">\n",
       "  <thead>\n",
       "    <tr style=\"text-align: right;\">\n",
       "      <th></th>\n",
       "      <th>column_name</th>\n",
       "      <th>nulls_percentage</th>\n",
       "    </tr>\n",
       "  </thead>\n",
       "  <tbody>\n",
       "    <tr>\n",
       "      <th>0</th>\n",
       "      <td>gender</td>\n",
       "      <td>0.000000</td>\n",
       "    </tr>\n",
       "    <tr>\n",
       "      <th>1</th>\n",
       "      <td>SeniorCitizen</td>\n",
       "      <td>0.000000</td>\n",
       "    </tr>\n",
       "    <tr>\n",
       "      <th>2</th>\n",
       "      <td>Partner</td>\n",
       "      <td>0.000000</td>\n",
       "    </tr>\n",
       "    <tr>\n",
       "      <th>3</th>\n",
       "      <td>Dependents</td>\n",
       "      <td>0.000000</td>\n",
       "    </tr>\n",
       "    <tr>\n",
       "      <th>4</th>\n",
       "      <td>tenure</td>\n",
       "      <td>0.000000</td>\n",
       "    </tr>\n",
       "    <tr>\n",
       "      <th>5</th>\n",
       "      <td>PhoneService</td>\n",
       "      <td>0.000000</td>\n",
       "    </tr>\n",
       "    <tr>\n",
       "      <th>6</th>\n",
       "      <td>OnlineSecurity</td>\n",
       "      <td>0.000000</td>\n",
       "    </tr>\n",
       "    <tr>\n",
       "      <th>7</th>\n",
       "      <td>OnlineBackup</td>\n",
       "      <td>0.000000</td>\n",
       "    </tr>\n",
       "    <tr>\n",
       "      <th>8</th>\n",
       "      <td>DeviceProtection</td>\n",
       "      <td>0.000000</td>\n",
       "    </tr>\n",
       "    <tr>\n",
       "      <th>9</th>\n",
       "      <td>TechSupport</td>\n",
       "      <td>0.000000</td>\n",
       "    </tr>\n",
       "    <tr>\n",
       "      <th>10</th>\n",
       "      <td>StreamingTV</td>\n",
       "      <td>0.000000</td>\n",
       "    </tr>\n",
       "    <tr>\n",
       "      <th>11</th>\n",
       "      <td>StreamingMovies</td>\n",
       "      <td>0.000000</td>\n",
       "    </tr>\n",
       "    <tr>\n",
       "      <th>12</th>\n",
       "      <td>Contract</td>\n",
       "      <td>0.000000</td>\n",
       "    </tr>\n",
       "    <tr>\n",
       "      <th>13</th>\n",
       "      <td>MonthlyCharges</td>\n",
       "      <td>0.000000</td>\n",
       "    </tr>\n",
       "    <tr>\n",
       "      <th>14</th>\n",
       "      <td>TotalCharges</td>\n",
       "      <td>0.001562</td>\n",
       "    </tr>\n",
       "    <tr>\n",
       "      <th>15</th>\n",
       "      <td>Churn</td>\n",
       "      <td>0.000000</td>\n",
       "    </tr>\n",
       "  </tbody>\n",
       "</table>\n",
       "</div>"
      ],
      "text/plain": [
       "         column_name  nulls_percentage\n",
       "0             gender          0.000000\n",
       "1      SeniorCitizen          0.000000\n",
       "2            Partner          0.000000\n",
       "3         Dependents          0.000000\n",
       "4             tenure          0.000000\n",
       "5       PhoneService          0.000000\n",
       "6     OnlineSecurity          0.000000\n",
       "7       OnlineBackup          0.000000\n",
       "8   DeviceProtection          0.000000\n",
       "9        TechSupport          0.000000\n",
       "10       StreamingTV          0.000000\n",
       "11   StreamingMovies          0.000000\n",
       "12          Contract          0.000000\n",
       "13    MonthlyCharges          0.000000\n",
       "14      TotalCharges          0.001562\n",
       "15             Churn          0.000000"
      ]
     },
     "execution_count": 57,
     "metadata": {},
     "output_type": "execute_result"
    }
   ],
   "source": [
    "#4. Check for null values in the dataframe. Replace the null values.\n",
    "\n",
    "nulls_percent_df = pd.DataFrame(churnData.isna().sum()/len(churnData)).reset_index()\n",
    "nulls_percent_df.columns = ['column_name', 'nulls_percentage']\n",
    "nulls_percent_df"
   ]
  },
  {
   "cell_type": "code",
   "execution_count": 58,
   "id": "e344f156",
   "metadata": {},
   "outputs": [
    {
     "data": {
      "text/plain": [
       "gender               0\n",
       "SeniorCitizen        0\n",
       "Partner              0\n",
       "Dependents           0\n",
       "tenure               0\n",
       "PhoneService         0\n",
       "OnlineSecurity       0\n",
       "OnlineBackup         0\n",
       "DeviceProtection     0\n",
       "TechSupport          0\n",
       "StreamingTV          0\n",
       "StreamingMovies      0\n",
       "Contract             0\n",
       "MonthlyCharges       0\n",
       "TotalCharges        11\n",
       "Churn                0\n",
       "dtype: int64"
      ]
     },
     "execution_count": 58,
     "metadata": {},
     "output_type": "execute_result"
    }
   ],
   "source": [
    "churnData.isna().sum()"
   ]
  },
  {
   "cell_type": "code",
   "execution_count": 59,
   "id": "3cef9fe0",
   "metadata": {},
   "outputs": [
    {
     "data": {
      "text/plain": [
       "20.20      11\n",
       "19.75       9\n",
       "20.05       8\n",
       "19.65       8\n",
       "19.90       8\n",
       "           ..\n",
       "6424.70     1\n",
       "1474.35     1\n",
       "6668.35     1\n",
       "6096.90     1\n",
       "5867.00     1\n",
       "Name: TotalCharges, Length: 6530, dtype: int64"
      ]
     },
     "execution_count": 59,
     "metadata": {},
     "output_type": "execute_result"
    }
   ],
   "source": [
    "churnData['TotalCharges'].value_counts()"
   ]
  },
  {
   "cell_type": "code",
   "execution_count": 60,
   "id": "b51aa414",
   "metadata": {},
   "outputs": [],
   "source": [
    "## I will include the mean values for the null values in column TotalCharges\n",
    "churnData['TotalCharges'] = churnData['TotalCharges'].fillna(np.mean(churnData['TotalCharges']))"
   ]
  },
  {
   "cell_type": "code",
   "execution_count": 61,
   "id": "a2967f47",
   "metadata": {},
   "outputs": [
    {
     "data": {
      "text/plain": [
       "gender              0\n",
       "SeniorCitizen       0\n",
       "Partner             0\n",
       "Dependents          0\n",
       "tenure              0\n",
       "PhoneService        0\n",
       "OnlineSecurity      0\n",
       "OnlineBackup        0\n",
       "DeviceProtection    0\n",
       "TechSupport         0\n",
       "StreamingTV         0\n",
       "StreamingMovies     0\n",
       "Contract            0\n",
       "MonthlyCharges      0\n",
       "TotalCharges        0\n",
       "Churn               0\n",
       "dtype: int64"
      ]
     },
     "execution_count": 61,
     "metadata": {},
     "output_type": "execute_result"
    }
   ],
   "source": [
    "churnData.isna().sum()"
   ]
  },
  {
   "cell_type": "code",
   "execution_count": 62,
   "id": "efebe500",
   "metadata": {},
   "outputs": [],
   "source": [
    "#5.  Use the following features: tenure, SeniorCitizen, MonthlyCharges and TotalCharges:\n",
    "#5.1  Scale the features either by using normalizer or a standard scaler.\n",
    "#5.2  Split the data into a training set and a test set.\n",
    "#5.3  Fit a logistic regression model on the training data."
   ]
  },
  {
   "cell_type": "code",
   "execution_count": 63,
   "id": "09406f3c",
   "metadata": {},
   "outputs": [
    {
     "data": {
      "text/html": [
       "<div>\n",
       "<style scoped>\n",
       "    .dataframe tbody tr th:only-of-type {\n",
       "        vertical-align: middle;\n",
       "    }\n",
       "\n",
       "    .dataframe tbody tr th {\n",
       "        vertical-align: top;\n",
       "    }\n",
       "\n",
       "    .dataframe thead th {\n",
       "        text-align: right;\n",
       "    }\n",
       "</style>\n",
       "<table border=\"1\" class=\"dataframe\">\n",
       "  <thead>\n",
       "    <tr style=\"text-align: right;\">\n",
       "      <th></th>\n",
       "      <th>SeniorCitizen</th>\n",
       "      <th>tenure</th>\n",
       "      <th>MonthlyCharges</th>\n",
       "      <th>TotalCharges</th>\n",
       "    </tr>\n",
       "  </thead>\n",
       "  <tbody>\n",
       "    <tr>\n",
       "      <th>0</th>\n",
       "      <td>0</td>\n",
       "      <td>1</td>\n",
       "      <td>29.85</td>\n",
       "      <td>29.85</td>\n",
       "    </tr>\n",
       "    <tr>\n",
       "      <th>1</th>\n",
       "      <td>0</td>\n",
       "      <td>34</td>\n",
       "      <td>56.95</td>\n",
       "      <td>1889.50</td>\n",
       "    </tr>\n",
       "    <tr>\n",
       "      <th>2</th>\n",
       "      <td>0</td>\n",
       "      <td>2</td>\n",
       "      <td>53.85</td>\n",
       "      <td>108.15</td>\n",
       "    </tr>\n",
       "    <tr>\n",
       "      <th>3</th>\n",
       "      <td>0</td>\n",
       "      <td>45</td>\n",
       "      <td>42.30</td>\n",
       "      <td>1840.75</td>\n",
       "    </tr>\n",
       "    <tr>\n",
       "      <th>4</th>\n",
       "      <td>0</td>\n",
       "      <td>2</td>\n",
       "      <td>70.70</td>\n",
       "      <td>151.65</td>\n",
       "    </tr>\n",
       "    <tr>\n",
       "      <th>...</th>\n",
       "      <td>...</td>\n",
       "      <td>...</td>\n",
       "      <td>...</td>\n",
       "      <td>...</td>\n",
       "    </tr>\n",
       "    <tr>\n",
       "      <th>7038</th>\n",
       "      <td>0</td>\n",
       "      <td>24</td>\n",
       "      <td>84.80</td>\n",
       "      <td>1990.50</td>\n",
       "    </tr>\n",
       "    <tr>\n",
       "      <th>7039</th>\n",
       "      <td>0</td>\n",
       "      <td>72</td>\n",
       "      <td>103.20</td>\n",
       "      <td>7362.90</td>\n",
       "    </tr>\n",
       "    <tr>\n",
       "      <th>7040</th>\n",
       "      <td>0</td>\n",
       "      <td>11</td>\n",
       "      <td>29.60</td>\n",
       "      <td>346.45</td>\n",
       "    </tr>\n",
       "    <tr>\n",
       "      <th>7041</th>\n",
       "      <td>1</td>\n",
       "      <td>4</td>\n",
       "      <td>74.40</td>\n",
       "      <td>306.60</td>\n",
       "    </tr>\n",
       "    <tr>\n",
       "      <th>7042</th>\n",
       "      <td>0</td>\n",
       "      <td>66</td>\n",
       "      <td>105.65</td>\n",
       "      <td>6844.50</td>\n",
       "    </tr>\n",
       "  </tbody>\n",
       "</table>\n",
       "<p>7043 rows × 4 columns</p>\n",
       "</div>"
      ],
      "text/plain": [
       "      SeniorCitizen  tenure  MonthlyCharges  TotalCharges\n",
       "0                 0       1           29.85         29.85\n",
       "1                 0      34           56.95       1889.50\n",
       "2                 0       2           53.85        108.15\n",
       "3                 0      45           42.30       1840.75\n",
       "4                 0       2           70.70        151.65\n",
       "...             ...     ...             ...           ...\n",
       "7038              0      24           84.80       1990.50\n",
       "7039              0      72          103.20       7362.90\n",
       "7040              0      11           29.60        346.45\n",
       "7041              1       4           74.40        306.60\n",
       "7042              0      66          105.65       6844.50\n",
       "\n",
       "[7043 rows x 4 columns]"
      ]
     },
     "execution_count": 63,
     "metadata": {},
     "output_type": "execute_result"
    }
   ],
   "source": [
    "numerical = churnData.select_dtypes(np.number)\n",
    "numerical"
   ]
  },
  {
   "cell_type": "code",
   "execution_count": 64,
   "id": "70076191",
   "metadata": {},
   "outputs": [],
   "source": [
    "from sklearn.preprocessing import StandardScaler\n",
    "scaler = StandardScaler().fit(numerical)\n",
    "numerical_std = scaler.transform(numerical)"
   ]
  },
  {
   "cell_type": "code",
   "execution_count": 65,
   "id": "5730f047",
   "metadata": {},
   "outputs": [
    {
     "data": {
      "text/plain": [
       "array([[-0.43991649, -1.27744458, -1.16032292, -0.99497138],\n",
       "       [-0.43991649,  0.06632742, -0.25962894, -0.17387565],\n",
       "       [-0.43991649, -1.23672422, -0.36266036, -0.96039939],\n",
       "       ...,\n",
       "       [-0.43991649, -0.87024095, -1.1686319 , -0.85518222],\n",
       "       [ 2.27315869, -1.15528349,  0.32033821, -0.87277729],\n",
       "       [-0.43991649,  1.36937906,  1.35896134,  2.01391739]])"
      ]
     },
     "execution_count": 65,
     "metadata": {},
     "output_type": "execute_result"
    }
   ],
   "source": [
    "numerical_std"
   ]
  },
  {
   "cell_type": "code",
   "execution_count": 66,
   "id": "22589c37",
   "metadata": {},
   "outputs": [],
   "source": [
    "## build X and y\n",
    "y = churnData['Churn']\n",
    "X = numerical_std"
   ]
  },
  {
   "cell_type": "code",
   "execution_count": 67,
   "id": "5a75da4c",
   "metadata": {},
   "outputs": [],
   "source": [
    "from sklearn.model_selection import train_test_split\n",
    "X_train, X_test, y_train, y_test = train_test_split(X, y, test_size=0.25, random_state=42)"
   ]
  },
  {
   "cell_type": "code",
   "execution_count": 68,
   "id": "9168270a",
   "metadata": {},
   "outputs": [],
   "source": [
    "from sklearn.linear_model import LogisticRegression\n",
    "\n",
    "classification = LogisticRegression(random_state=0, solver='lbfgs',\n",
    "                  multi_class='ovr').fit(X_train, y_train)"
   ]
  },
  {
   "cell_type": "code",
   "execution_count": 69,
   "id": "74ec3e7e",
   "metadata": {},
   "outputs": [
    {
     "data": {
      "text/plain": [
       "0.7989778534923339"
      ]
     },
     "execution_count": 69,
     "metadata": {},
     "output_type": "execute_result"
    }
   ],
   "source": [
    "#5.4 Check the accuracy on the test data.\n",
    "\n",
    "predictions = classification.predict(X_test)\n",
    "classification.score(X_test, y_test)"
   ]
  },
  {
   "cell_type": "code",
   "execution_count": 70,
   "id": "68658cbf",
   "metadata": {},
   "outputs": [
    {
     "data": {
      "text/plain": [
       "No     1448\n",
       "Yes     313\n",
       "dtype: int64"
      ]
     },
     "execution_count": 70,
     "metadata": {},
     "output_type": "execute_result"
    }
   ],
   "source": [
    "pd.Series(predictions).value_counts()"
   ]
  },
  {
   "cell_type": "code",
   "execution_count": 71,
   "id": "f4b76325",
   "metadata": {},
   "outputs": [
    {
     "data": {
      "text/plain": [
       "No     5174\n",
       "Yes    1869\n",
       "Name: Churn, dtype: int64"
      ]
     },
     "execution_count": 71,
     "metadata": {},
     "output_type": "execute_result"
    }
   ],
   "source": [
    "y.value_counts()"
   ]
  },
  {
   "cell_type": "code",
   "execution_count": 72,
   "id": "7ae8fa4c",
   "metadata": {},
   "outputs": [
    {
     "data": {
      "text/plain": [
       "0.7346301292063041"
      ]
     },
     "execution_count": 72,
     "metadata": {},
     "output_type": "execute_result"
    }
   ],
   "source": [
    "5174/(5174+1869)"
   ]
  },
  {
   "cell_type": "code",
   "execution_count": 73,
   "id": "dc5cbc70",
   "metadata": {},
   "outputs": [],
   "source": [
    "## Model score is about the same as the imbalance noted in the data.  So even just selecting the majority class, the accuracy\n",
    "## would be around 73%.  So not really a good model."
   ]
  },
  {
   "cell_type": "code",
   "execution_count": 74,
   "id": "215acea6",
   "metadata": {},
   "outputs": [],
   "source": [
    "# Managing imbalance in the dataset\n",
    "\n",
    "#6. Check for the imbalance.\n",
    "\n",
    "#7. Use the resampling strategies used in class for upsampling and downsampling to create a balance between the two classes.\n",
    "\n",
    "#8. Each time fit the model and see how the accuracy of the model is."
   ]
  },
  {
   "cell_type": "code",
   "execution_count": 75,
   "id": "de51bad6",
   "metadata": {},
   "outputs": [
    {
     "data": {
      "text/plain": [
       "No     5174\n",
       "Yes    1869\n",
       "Name: Churn, dtype: int64"
      ]
     },
     "execution_count": 75,
     "metadata": {},
     "output_type": "execute_result"
    }
   ],
   "source": [
    "y.value_counts()"
   ]
  },
  {
   "cell_type": "code",
   "execution_count": 76,
   "id": "e197d388",
   "metadata": {},
   "outputs": [],
   "source": [
    "from sklearn.utils import resample\n",
    "\n",
    "No = churnData[churnData['Churn'] == \"No\"]\n",
    "Yes = churnData[churnData['Churn'] == \"Yes\"]"
   ]
  },
  {
   "cell_type": "code",
   "execution_count": 77,
   "id": "a1a9b228",
   "metadata": {},
   "outputs": [],
   "source": [
    "# downsampling"
   ]
  },
  {
   "cell_type": "code",
   "execution_count": 78,
   "id": "8ce4f248",
   "metadata": {},
   "outputs": [],
   "source": [
    "No_undersampled = resample(No, \n",
    "                                   replace=False, \n",
    "                                   n_samples = len(Yes))"
   ]
  },
  {
   "cell_type": "code",
   "execution_count": 79,
   "id": "514d00e4",
   "metadata": {},
   "outputs": [
    {
     "name": "stdout",
     "output_type": "stream",
     "text": [
      "(1869, 16)\n",
      "(1869, 16)\n"
     ]
    }
   ],
   "source": [
    "print(No_undersampled.shape)\n",
    "print(Yes.shape)"
   ]
  },
  {
   "cell_type": "code",
   "execution_count": 80,
   "id": "4eb3245d",
   "metadata": {},
   "outputs": [],
   "source": [
    "data_downsampled = pd.concat([No_undersampled, Yes], axis=0)"
   ]
  },
  {
   "cell_type": "code",
   "execution_count": 81,
   "id": "2524b001",
   "metadata": {},
   "outputs": [],
   "source": [
    "numerical = data_downsampled.select_dtypes(np.number)\n"
   ]
  },
  {
   "cell_type": "code",
   "execution_count": 82,
   "id": "20394893",
   "metadata": {},
   "outputs": [],
   "source": [
    "# scaler = StandardScaler().fit(numerical)\n",
    "numerical_std = scaler.transform(numerical)\n",
    "#scaler based on original dataset"
   ]
  },
  {
   "cell_type": "code",
   "execution_count": 83,
   "id": "3964285c",
   "metadata": {},
   "outputs": [
    {
     "data": {
      "text/plain": [
       "(3738, 4)"
      ]
     },
     "execution_count": 83,
     "metadata": {},
     "output_type": "execute_result"
    }
   ],
   "source": [
    "numerical_std.shape"
   ]
  },
  {
   "cell_type": "code",
   "execution_count": 84,
   "id": "f9ffd7aa",
   "metadata": {},
   "outputs": [],
   "source": [
    "## build X and y\n",
    "y = data_downsampled['Churn']\n",
    "X = numerical_std"
   ]
  },
  {
   "cell_type": "code",
   "execution_count": 85,
   "id": "9ac3c542",
   "metadata": {},
   "outputs": [],
   "source": [
    "X_train, X_test, y_train, y_test = train_test_split(X, y, test_size=0.25, random_state=42)"
   ]
  },
  {
   "cell_type": "code",
   "execution_count": 86,
   "id": "513ec309",
   "metadata": {},
   "outputs": [],
   "source": [
    "classification = LogisticRegression(random_state=0, solver='lbfgs',\n",
    "                  multi_class='ovr').fit(X_train, y_train)"
   ]
  },
  {
   "cell_type": "code",
   "execution_count": 87,
   "id": "663c307d",
   "metadata": {},
   "outputs": [
    {
     "data": {
      "text/plain": [
       "0.7529411764705882"
      ]
     },
     "execution_count": 87,
     "metadata": {},
     "output_type": "execute_result"
    }
   ],
   "source": [
    "# Check the accuracy on the test data.\n",
    "predictions = classification.predict(X_test)\n",
    "classification.score(X_test, y_test)"
   ]
  },
  {
   "cell_type": "code",
   "execution_count": 88,
   "id": "ac8f9e82",
   "metadata": {},
   "outputs": [],
   "source": [
    "# upsampling"
   ]
  },
  {
   "cell_type": "code",
   "execution_count": 89,
   "id": "19edc31d",
   "metadata": {},
   "outputs": [],
   "source": [
    "Yes_oversampled = resample(Yes, \n",
    "                                  replace=True, \n",
    "                                  n_samples = len(No))"
   ]
  },
  {
   "cell_type": "code",
   "execution_count": 90,
   "id": "f3c0971f",
   "metadata": {},
   "outputs": [
    {
     "name": "stdout",
     "output_type": "stream",
     "text": [
      "(5174, 16)\n",
      "(5174, 16)\n"
     ]
    }
   ],
   "source": [
    "print(Yes_oversampled.shape)\n",
    "print(No.shape)"
   ]
  },
  {
   "cell_type": "code",
   "execution_count": 91,
   "id": "7a9b9afd",
   "metadata": {},
   "outputs": [],
   "source": [
    "data_upsampled = pd.concat([Yes_oversampled, No], axis=0)"
   ]
  },
  {
   "cell_type": "code",
   "execution_count": 92,
   "id": "77598040",
   "metadata": {},
   "outputs": [],
   "source": [
    "numerical = data_upsampled.select_dtypes(np.number)"
   ]
  },
  {
   "cell_type": "code",
   "execution_count": 93,
   "id": "3bce3543",
   "metadata": {},
   "outputs": [],
   "source": [
    "# scaler = StandardScaler().fit(numerical)\n",
    "numerical_std = scaler.transform(numerical)\n",
    "\n",
    "#scaler based on original dataset"
   ]
  },
  {
   "cell_type": "code",
   "execution_count": 94,
   "id": "23267186",
   "metadata": {},
   "outputs": [
    {
     "data": {
      "text/plain": [
       "(10348, 4)"
      ]
     },
     "execution_count": 94,
     "metadata": {},
     "output_type": "execute_result"
    }
   ],
   "source": [
    "numerical_std.shape"
   ]
  },
  {
   "cell_type": "code",
   "execution_count": 95,
   "id": "b5f2c331",
   "metadata": {},
   "outputs": [],
   "source": [
    "## build X and y\n",
    "y = data_upsampled['Churn']\n",
    "X = numerical_std"
   ]
  },
  {
   "cell_type": "code",
   "execution_count": 96,
   "id": "55472489",
   "metadata": {},
   "outputs": [],
   "source": [
    "X_train, X_test, y_train, y_test = train_test_split(X, y, test_size=0.25, random_state=42)"
   ]
  },
  {
   "cell_type": "code",
   "execution_count": 97,
   "id": "25ee9390",
   "metadata": {},
   "outputs": [],
   "source": [
    "classification = LogisticRegression(random_state=0, solver='lbfgs',\n",
    "                  multi_class='ovr').fit(X_train, y_train)"
   ]
  },
  {
   "cell_type": "code",
   "execution_count": 98,
   "id": "02bd2f83",
   "metadata": {},
   "outputs": [
    {
     "data": {
      "text/plain": [
       "0.7274835717046773"
      ]
     },
     "execution_count": 98,
     "metadata": {},
     "output_type": "execute_result"
    }
   ],
   "source": [
    "# Check the accuracy on the test data.\n",
    "predictions = classification.predict(X_test)\n",
    "classification.score(X_test, y_test)"
   ]
  }
 ],
 "metadata": {
  "kernelspec": {
   "display_name": "Python 3",
   "language": "python",
   "name": "python3"
  },
  "language_info": {
   "codemirror_mode": {
    "name": "ipython",
    "version": 3
   },
   "file_extension": ".py",
   "mimetype": "text/x-python",
   "name": "python",
   "nbconvert_exporter": "python",
   "pygments_lexer": "ipython3",
   "version": "3.8.8"
  }
 },
 "nbformat": 4,
 "nbformat_minor": 5
}
